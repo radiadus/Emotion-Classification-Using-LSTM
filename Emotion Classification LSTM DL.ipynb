{
 "cells": [
  {
   "cell_type": "code",
   "execution_count": 1,
   "id": "8dde5b8d",
   "metadata": {},
   "outputs": [
    {
     "name": "stderr",
     "output_type": "stream",
     "text": [
      "[nltk_data] Downloading package stopwords to\n",
      "[nltk_data]     C:\\Users\\magnu\\AppData\\Roaming\\nltk_data...\n",
      "[nltk_data]   Unzipping corpora\\stopwords.zip.\n"
     ]
    }
   ],
   "source": [
    "import pandas as pd\n",
    "import numpy as np\n",
    "import re\n",
    "import nltk\n",
    "nltk.download('stopwords')\n",
    "from nltk.corpus import stopwords\n",
    "import tensorflow as tf\n",
    "from keras.preprocessing.text import Tokenizer\n",
    "from keras.preprocessing.sequence import pad_sequences\n",
    "from sklearn.preprocessing import OneHotEncoder"
   ]
  },
  {
   "cell_type": "code",
   "execution_count": 2,
   "id": "bcecb843",
   "metadata": {},
   "outputs": [
    {
     "name": "stdout",
     "output_type": "stream",
     "text": [
      "<class 'pandas.core.frame.DataFrame'>\n",
      "RangeIndex: 416809 entries, 0 to 416808\n",
      "Data columns (total 2 columns):\n",
      " #   Column   Non-Null Count   Dtype \n",
      "---  ------   --------------   ----- \n",
      " 0   Text     416809 non-null  object\n",
      " 1   Emotion  416809 non-null  object\n",
      "dtypes: object(2)\n",
      "memory usage: 6.4+ MB\n"
     ]
    }
   ],
   "source": [
    "df = pd.read_csv('merged_training.csv')\n",
    "df.info()"
   ]
  },
  {
   "cell_type": "code",
   "execution_count": 3,
   "id": "612f46bf",
   "metadata": {},
   "outputs": [
    {
     "data": {
      "text/plain": [
       "joy         141067\n",
       "sadness     121187\n",
       "anger        57317\n",
       "fear         47712\n",
       "love         34554\n",
       "surprise     14972\n",
       "Name: Emotion, dtype: int64"
      ]
     },
     "execution_count": 3,
     "metadata": {},
     "output_type": "execute_result"
    }
   ],
   "source": [
    "df.Emotion.value_counts()"
   ]
  },
  {
   "cell_type": "code",
   "execution_count": 11,
   "id": "653f5981",
   "metadata": {},
   "outputs": [],
   "source": [
    "df = df.loc[(df[\"Emotion\"]!=\"surprise\")]\n",
    "df = df.loc[(df[\"Emotion\"]!=\"love\")]"
   ]
  },
  {
   "cell_type": "code",
   "execution_count": 14,
   "id": "f2cab53b",
   "metadata": {},
   "outputs": [
    {
     "data": {
      "text/plain": [
       "joy        141067\n",
       "sadness    121187\n",
       "anger       57317\n",
       "fear        47712\n",
       "Name: Emotion, dtype: int64"
      ]
     },
     "execution_count": 14,
     "metadata": {},
     "output_type": "execute_result"
    }
   ],
   "source": [
    "df.Emotion.value_counts()"
   ]
  },
  {
   "cell_type": "code",
   "execution_count": 15,
   "id": "552acddc",
   "metadata": {},
   "outputs": [],
   "source": [
    "features = []\n",
    "target = []\n",
    "\n",
    "counter_happy = 0\n",
    "counter_sad = 0\n",
    "\n",
    "for i in range(len(df)):\n",
    "    if df[\"Emotion\"].iloc[i] == \"joy\":\n",
    "        if counter_happy < 50000:\n",
    "            features.append(df[\"Text\"].iloc[i])\n",
    "            target.append(df[\"Emotion\"].iloc[i])\n",
    "            counter_happy+=1\n",
    "    elif df[\"Emotion\"].iloc[i] == \"sadness\":\n",
    "        if counter_sad < 50000:\n",
    "            features.append(df[\"Text\"].iloc[i])\n",
    "            target.append(df[\"Emotion\"].iloc[i])\n",
    "            counter_sad+=1\n",
    "    else:\n",
    "        features.append(df[\"Text\"].iloc[i])\n",
    "        target.append(df[\"Emotion\"].iloc[i])"
   ]
  },
  {
   "cell_type": "code",
   "execution_count": 16,
   "id": "8ea6e971",
   "metadata": {},
   "outputs": [],
   "source": [
    "features = np.array(features)\n",
    "target = np.array(target)"
   ]
  },
  {
   "cell_type": "code",
   "execution_count": 17,
   "id": "3e4e8e6c",
   "metadata": {},
   "outputs": [
    {
     "name": "stdout",
     "output_type": "stream",
     "text": [
      "(205029,)\n"
     ]
    }
   ],
   "source": [
    "print(target.shape)"
   ]
  },
  {
   "cell_type": "code",
   "execution_count": 18,
   "id": "fe24a746",
   "metadata": {},
   "outputs": [],
   "source": [
    "REPLACE_BY_SPACE_RE = re.compile('[/(){}\\[\\]\\|@,;]')\n",
    "BAD_SYMBOLS_RE = re.compile('[^0-9a-z #+_]')\n",
    "STOPWORDS = set(stopwords.words('english'))\n",
    "\n",
    "def clean_text(text):\n",
    "    \"\"\"\n",
    "        text: a string\n",
    "        \n",
    "        return: modified initial string\n",
    "    \"\"\"\n",
    "    text = text.lower() # lowercase text\n",
    "    text = re.sub(\"@[A-Za-z0-9_]+\",\"\", text)\n",
    "    text = re.sub(\"#[A-Za-z0-9_]+\",\"\", text)\n",
    "    text = re.sub(r\"http\\S+\", \"\", text)\n",
    "    text = re.sub(r\"www.\\S+\", \"\", text)\n",
    "    text = REPLACE_BY_SPACE_RE.sub(' ', text) # replace REPLACE_BY_SPACE_RE symbols by space in text. substitute the matched string in REPLACE_BY_SPACE_RE with space.\n",
    "    text = BAD_SYMBOLS_RE.sub('', text) # remove symbols which are in BAD_SYMBOLS_RE from text. substitute the matched string in BAD_SYMBOLS_RE with nothing. \n",
    "#     text = text.replace('x', '')\n",
    "#    text = re.sub(r'\\W+', '', text)\n",
    "    text = ' '.join(word for word in text.split() if word not in STOPWORDS) # remove stopwors from text\n",
    "    return text"
   ]
  },
  {
   "cell_type": "code",
   "execution_count": 19,
   "id": "8cff0ee7",
   "metadata": {},
   "outputs": [],
   "source": [
    "for i in range(len(features)):\n",
    "    features[i] = clean_text(features[i])"
   ]
  },
  {
   "cell_type": "code",
   "execution_count": 20,
   "id": "ed8c9e3f",
   "metadata": {},
   "outputs": [
    {
     "name": "stdout",
     "output_type": "stream",
     "text": [
      "['feel awful job get position succeed happen' 'im alone feel awful'\n",
      " 'ive probably mentioned really feel proud actually keeping new years resolution monthly weekly goals'\n",
      " ...\n",
      " 'im tired little irrational wearing much makeup sometimes feel insecure'\n",
      " 'could never bear feeling violent thought'\n",
      " 'take every day comes focussing eating better moment aiming unrealistic targets setting deadlines feel pressured improving diet']\n"
     ]
    }
   ],
   "source": [
    "print(features)"
   ]
  },
  {
   "cell_type": "code",
   "execution_count": 21,
   "id": "b93a0cfb",
   "metadata": {},
   "outputs": [
    {
     "name": "stdout",
     "output_type": "stream",
     "text": [
      "Found 52621 unique tokens.\n"
     ]
    }
   ],
   "source": [
    "# The maximum number of words to be used. (most frequent)\n",
    "MAX_NB_WORDS = 40000\n",
    "# Max number of words in each complaint.\n",
    "MAX_SEQUENCE_LENGTH = 30\n",
    "# This is fixed.\n",
    "EMBEDDING_DIM = 150\n",
    "tokenizer = Tokenizer(num_words=MAX_NB_WORDS, filters='!\"#$%&()*+,-./:;<=>?@[\\]^_`{|}~', lower=True)\n",
    "\n",
    "tokenizer.fit_on_texts(features)\n",
    "word_index = tokenizer.word_index\n",
    "print('Found %s unique tokens.' % len(word_index))"
   ]
  },
  {
   "cell_type": "code",
   "execution_count": 22,
   "id": "314060c4",
   "metadata": {},
   "outputs": [
    {
     "name": "stdout",
     "output_type": "stream",
     "text": [
      "Shape of data tensor: (205029, 30)\n"
     ]
    }
   ],
   "source": [
    "features = tokenizer.texts_to_sequences(features)\n",
    "features = pad_sequences(features, maxlen=MAX_SEQUENCE_LENGTH)\n",
    "print('Shape of data tensor:', features.shape)"
   ]
  },
  {
   "cell_type": "code",
   "execution_count": 23,
   "id": "345d31d4",
   "metadata": {},
   "outputs": [
    {
     "data": {
      "text/plain": [
       "(205029, 4)"
      ]
     },
     "execution_count": 23,
     "metadata": {},
     "output_type": "execute_result"
    }
   ],
   "source": [
    "target = np.reshape(target, (-1, 1))\n",
    "target = OneHotEncoder(sparse=False).fit_transform(target)\n",
    "target.shape"
   ]
  },
  {
   "cell_type": "code",
   "execution_count": 24,
   "id": "6c99e289",
   "metadata": {},
   "outputs": [
    {
     "name": "stdout",
     "output_type": "stream",
     "text": [
      "(164023, 30) (164023, 4)\n",
      "(41006, 30) (41006, 4)\n"
     ]
    }
   ],
   "source": [
    "from sklearn.model_selection import train_test_split\n",
    "X_train, X_test, Y_train, Y_test = train_test_split(features,target, test_size = 0.2)\n",
    "print(X_train.shape,Y_train.shape)\n",
    "print(X_test.shape,Y_test.shape)"
   ]
  },
  {
   "cell_type": "code",
   "execution_count": 25,
   "id": "1dae6ccb",
   "metadata": {
    "scrolled": true
   },
   "outputs": [
    {
     "name": "stdout",
     "output_type": "stream",
     "text": [
      "Epoch 1/10\n",
      "WARNING:tensorflow:AutoGraph could not transform <function Model.make_train_function.<locals>.train_function at 0x000002485AF42DC8> and will run it as-is.\n",
      "Please report this to the TensorFlow team. When filing the bug, set the verbosity to 10 (on Linux, `export AUTOGRAPH_VERBOSITY=10`) and attach the full output.\n",
      "Cause: 'arguments' object has no attribute 'posonlyargs'\n",
      "To silence this warning, decorate the function with @tf.autograph.experimental.do_not_convert\n",
      "WARNING: AutoGraph could not transform <function Model.make_train_function.<locals>.train_function at 0x000002485AF42DC8> and will run it as-is.\n",
      "Please report this to the TensorFlow team. When filing the bug, set the verbosity to 10 (on Linux, `export AUTOGRAPH_VERBOSITY=10`) and attach the full output.\n",
      "Cause: 'arguments' object has no attribute 'posonlyargs'\n",
      "To silence this warning, decorate the function with @tf.autograph.experimental.do_not_convert\n",
      "2303/2307 [============================>.] - ETA: 0s - loss: 0.1114 - accuracy: 0.9539WARNING:tensorflow:AutoGraph could not transform <function Model.make_test_function.<locals>.test_function at 0x000002485B4013A8> and will run it as-is.\n",
      "Please report this to the TensorFlow team. When filing the bug, set the verbosity to 10 (on Linux, `export AUTOGRAPH_VERBOSITY=10`) and attach the full output.\n",
      "Cause: 'arguments' object has no attribute 'posonlyargs'\n",
      "To silence this warning, decorate the function with @tf.autograph.experimental.do_not_convert\n",
      "WARNING: AutoGraph could not transform <function Model.make_test_function.<locals>.test_function at 0x000002485B4013A8> and will run it as-is.\n",
      "Please report this to the TensorFlow team. When filing the bug, set the verbosity to 10 (on Linux, `export AUTOGRAPH_VERBOSITY=10`) and attach the full output.\n",
      "Cause: 'arguments' object has no attribute 'posonlyargs'\n",
      "To silence this warning, decorate the function with @tf.autograph.experimental.do_not_convert\n",
      "2307/2307 [==============================] - 32s 9ms/step - loss: 0.1113 - accuracy: 0.9539 - val_loss: 0.0677 - val_accuracy: 0.9702\n",
      "Epoch 2/10\n",
      "2307/2307 [==============================] - 20s 8ms/step - loss: 0.0706 - accuracy: 0.9688 - val_loss: 0.0715 - val_accuracy: 0.9696\n",
      "Epoch 3/10\n",
      "2307/2307 [==============================] - 20s 8ms/step - loss: 0.0693 - accuracy: 0.9692 - val_loss: 0.0644 - val_accuracy: 0.9693\n",
      "Epoch 4/10\n",
      "2307/2307 [==============================] - 20s 9ms/step - loss: 0.0690 - accuracy: 0.9692 - val_loss: 0.0646 - val_accuracy: 0.9698\n",
      "Epoch 5/10\n",
      "2307/2307 [==============================] - 20s 8ms/step - loss: 0.0734 - accuracy: 0.9682 - val_loss: 0.0684 - val_accuracy: 0.9696\n",
      "Epoch 6/10\n",
      "2307/2307 [==============================] - 21s 9ms/step - loss: 0.0737 - accuracy: 0.9679 - val_loss: 0.0652 - val_accuracy: 0.9690\n",
      "Epoch 7/10\n",
      "2307/2307 [==============================] - 20s 9ms/step - loss: 0.0732 - accuracy: 0.9681 - val_loss: 0.0691 - val_accuracy: 0.9693\n",
      "Epoch 8/10\n",
      "2307/2307 [==============================] - 20s 9ms/step - loss: 0.0699 - accuracy: 0.9691 - val_loss: 0.0673 - val_accuracy: 0.9698\n",
      "Epoch 9/10\n",
      "2307/2307 [==============================] - 20s 9ms/step - loss: 0.0712 - accuracy: 0.9688 - val_loss: 0.0719 - val_accuracy: 0.9693\n",
      "Epoch 10/10\n",
      "2307/2307 [==============================] - 20s 9ms/step - loss: 0.0769 - accuracy: 0.9676 - val_loss: 0.0744 - val_accuracy: 0.9682\n"
     ]
    }
   ],
   "source": [
    "from keras.models import Sequential\n",
    "from keras.layers import Embedding, SpatialDropout1D, CuDNNLSTM, Dense, Dropout\n",
    "\n",
    "model = Sequential()\n",
    "model.add(Embedding(MAX_NB_WORDS, EMBEDDING_DIM, input_length=X_train.shape[1]))\n",
    "model.add(SpatialDropout1D(0.2))\n",
    "model.add(CuDNNLSTM(100))\n",
    "model.add(Dropout(0.2))\n",
    "model.add(Dense(64, activation='relu'))\n",
    "model.add(Dense(4, activation='softmax'))\n",
    "model.compile(loss='categorical_crossentropy', optimizer=tf.keras.optimizers.Adam(learning_rate=0.01), metrics=['accuracy'])\n",
    "\n",
    "epochs = 10\n",
    "batch_size = 64\n",
    "\n",
    "history = model.fit(X_train, Y_train, epochs=epochs, batch_size=batch_size,validation_split=0.1)"
   ]
  },
  {
   "cell_type": "code",
   "execution_count": 26,
   "id": "ac0944b3",
   "metadata": {},
   "outputs": [
    {
     "name": "stdout",
     "output_type": "stream",
     "text": [
      "1282/1282 [==============================] - 4s 3ms/step - loss: 0.0770 - accuracy: 0.9679\n",
      "Test set\n",
      "  Loss: 0.077\n",
      "  Accuracy: 0.968\n"
     ]
    }
   ],
   "source": [
    "accr = model.evaluate(X_test,Y_test)\n",
    "print('Test set\\n  Loss: {:0.3f}\\n  Accuracy: {:0.3f}'.format(accr[0],accr[1]))"
   ]
  },
  {
   "cell_type": "code",
   "execution_count": 27,
   "id": "6095a53e",
   "metadata": {},
   "outputs": [
    {
     "data": {
      "image/png": "[encoded data removed]",
      "text/plain": [
       "<Figure size 432x288 with 1 Axes>"
      ]
     },
     "metadata": {
      "needs_background": "light"
     },
     "output_type": "display_data"
    }
   ],
   "source": [
    "from matplotlib import pyplot as plt\n",
    "plt.title('Loss')\n",
    "plt.plot(history.history['loss'], label='train')\n",
    "plt.plot(history.history['val_loss'], label='test')\n",
    "plt.legend()\n",
    "plt.show()"
   ]
  },
  {
   "cell_type": "code",
   "execution_count": 28,
   "id": "fb38c7bc",
   "metadata": {},
   "outputs": [
    {
     "data": {
      "image/png": "[encoded data removed]",
      "text/plain": [
       "<Figure size 432x288 with 1 Axes>"
      ]
     },
     "metadata": {
      "needs_background": "light"
     },
     "output_type": "display_data"
    }
   ],
   "source": [
    "plt.title('Accuracy')\n",
    "plt.plot(history.history['accuracy'], label='train')\n",
    "plt.plot(history.history['val_accuracy'], label='test')\n",
    "plt.legend()\n",
    "plt.show();"
   ]
  },
  {
   "cell_type": "code",
   "execution_count": 29,
   "id": "c16b8460",
   "metadata": {},
   "outputs": [
    {
     "name": "stdout",
     "output_type": "stream",
     "text": [
      "WARNING:tensorflow:AutoGraph could not transform <function Model.make_predict_function.<locals>.predict_function at 0x000002485041C558> and will run it as-is.\n",
      "Please report this to the TensorFlow team. When filing the bug, set the verbosity to 10 (on Linux, `export AUTOGRAPH_VERBOSITY=10`) and attach the full output.\n",
      "Cause: 'arguments' object has no attribute 'posonlyargs'\n",
      "To silence this warning, decorate the function with @tf.autograph.experimental.do_not_convert\n",
      "WARNING: AutoGraph could not transform <function Model.make_predict_function.<locals>.predict_function at 0x000002485041C558> and will run it as-is.\n",
      "Please report this to the TensorFlow team. When filing the bug, set the verbosity to 10 (on Linux, `export AUTOGRAPH_VERBOSITY=10`) and attach the full output.\n",
      "Cause: 'arguments' object has no attribute 'posonlyargs'\n",
      "To silence this warning, decorate the function with @tf.autograph.experimental.do_not_convert\n",
      "[[11349   526    64   287]\n",
      " [   69  9028    18   176]\n",
      " [   29    25  9848    27]\n",
      " [   35    27    35  9463]]\n"
     ]
    }
   ],
   "source": [
    "from sklearn.metrics import confusion_matrix\n",
    "test = model.predict(X_test)\n",
    "test = np.argmax(test, axis=1)\n",
    "Y_test = np.argmax(Y_test, axis=1)\n",
    "print(confusion_matrix(test, Y_test))"
   ]
  },
  {
   "cell_type": "code",
   "execution_count": null,
   "id": "b5ce10e7",
   "metadata": {},
   "outputs": [],
   "source": []
  }
 ],
 "metadata": {
  "kernelspec": {
   "display_name": "Python 3 (ipykernel)",
   "language": "python",
   "name": "python3"
  },
  "language_info": {
   "codemirror_mode": {
    "name": "ipython",
    "version": 3
   },
   "file_extension": ".py",
   "mimetype": "text/x-python",
   "name": "python",
   "nbconvert_exporter": "python",
   "pygments_lexer": "ipython3",
   "version": "3.7.6"
  }
 },
 "nbformat": 4,
 "nbformat_minor": 5
}
